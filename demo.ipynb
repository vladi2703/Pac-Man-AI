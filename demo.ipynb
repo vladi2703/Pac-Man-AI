{
 "cells": [
  {
   "cell_type": "markdown",
   "metadata": {},
   "source": [
    "# Pac-Man AI\n",
    "Владимир Стоянов, 82284"
   ]
  },
  {
   "cell_type": "markdown",
   "metadata": {},
   "source": [
    "Важно изпълнението на тази тетрадка да се извършва в среда с Python 3.6"
   ]
  },
  {
   "cell_type": "code",
   "execution_count": 2,
   "metadata": {},
   "outputs": [],
   "source": [
    "import os \n",
    "\n",
    "os.chdir(\"search\")"
   ]
  },
  {
   "cell_type": "markdown",
   "metadata": {},
   "source": [
    "## Търсене в дълбочина (DFS)"
   ]
  },
  {
   "cell_type": "code",
   "execution_count": 3,
   "metadata": {},
   "outputs": [
    {
     "data": {
      "text/plain": [
       "0"
      ]
     },
     "execution_count": 3,
     "metadata": {},
     "output_type": "execute_result"
    }
   ],
   "source": [
    "os.system(\"python pacman.py -l mediumMaze -p SearchAgent -a fn=dfs --frameTime 0.02\")"
   ]
  },
  {
   "cell_type": "markdown",
   "metadata": {},
   "source": [
    "## Търсене в широчина (BFS)"
   ]
  },
  {
   "cell_type": "code",
   "execution_count": 4,
   "metadata": {},
   "outputs": [
    {
     "data": {
      "text/plain": [
       "0"
      ]
     },
     "execution_count": 4,
     "metadata": {},
     "output_type": "execute_result"
    }
   ],
   "source": [
    "os.system(\"python pacman.py -l mediumMaze -p SearchAgent -a fn=bfs --frameTime 0.02\")"
   ]
  },
  {
   "cell_type": "markdown",
   "metadata": {},
   "source": [
    "## Uniformed cost search (UCS)\n",
    "Оценъчната функция на този алгоритъм е просто дължината на пътя от началото до текущия възел."
   ]
  },
  {
   "cell_type": "code",
   "execution_count": 12,
   "metadata": {},
   "outputs": [
    {
     "data": {
      "text/plain": [
       "0"
      ]
     },
     "execution_count": 12,
     "metadata": {},
     "output_type": "execute_result"
    }
   ],
   "source": [
    "os.system(\"python pacman.py -l mediumMaze -p SearchAgent -a fn=ucs --frameTime 0.02\")"
   ]
  },
  {
   "cell_type": "markdown",
   "metadata": {},
   "source": [
    "## A*\n",
    "Алгоритъм А* е подобен на UCS, но добавя оценъчна функция, която е сума от дължината на пътя от началото до текущия възел и оценъчната функция на текущия възел до целевия възел. Използваната мярка е манхатънско разстояние."
   ]
  },
  {
   "cell_type": "code",
   "execution_count": 7,
   "metadata": {},
   "outputs": [
    {
     "data": {
      "text/plain": [
       "0"
      ]
     },
     "execution_count": 7,
     "metadata": {},
     "output_type": "execute_result"
    }
   ],
   "source": [
    "os.system(\"python pacman.py -l bigMaze -z .5 -p SearchAgent -a fn=astar,heuristic=manhattanHeuristic --frameTime 0.02\")"
   ]
  },
  {
   "cell_type": "markdown",
   "metadata": {},
   "source": [
    "## Да опитаме ние?\n",
    "Може да изиграем една игра, за да видим, че пътят, който вероятно ви изглежда по-оптимален всъщност не е"
   ]
  },
  {
   "cell_type": "code",
   "execution_count": 11,
   "metadata": {},
   "outputs": [
    {
     "data": {
      "text/plain": [
       "0"
      ]
     },
     "execution_count": 11,
     "metadata": {},
     "output_type": "execute_result"
    }
   ],
   "source": [
    "os.system(\"python pacman.py -l mediumMaze\")"
   ]
  },
  {
   "cell_type": "markdown",
   "metadata": {},
   "source": [
    "## A* Задача с ъглите\n",
    "Решава задачата за достигане до 4те ъгъла използвайки алгоритъма A*"
   ]
  },
  {
   "cell_type": "code",
   "execution_count": null,
   "metadata": {},
   "outputs": [],
   "source": [
    "os.system(\"python pacman.py -l mediumCorners -p AStarCornersAgent -z 0.5 --frameTime 0.03\")"
   ]
  },
  {
   "cell_type": "markdown",
   "metadata": {},
   "source": [
    "## Да похапнем?\n",
    "Тук ще се опитаме да направим първите стъпки към решаването на задачата за изяждане на точки. Ще дефинираме евристика, която взима в предвид двете най-отдалечени една от друга точки. Така или иначе пакман ще трябва да измине това разстояние. Това разстояние събираме с разстоянието до по-близката от тези две точки. "
   ]
  },
  {
   "cell_type": "markdown",
   "metadata": {},
   "source": [
    "Първо ще опитаме да решим задачата с Uniformed cost search (UCS) "
   ]
  },
  {
   "cell_type": "code",
   "execution_count": 16,
   "metadata": {},
   "outputs": [
    {
     "data": {
      "text/plain": [
       "0"
      ]
     },
     "execution_count": 16,
     "metadata": {},
     "output_type": "execute_result"
    }
   ],
   "source": [
    "# UCS food\n",
    "os.system(\"python pacman.py -l trickySearch -p SearchAgent -a fn=ucs,prob=FoodSearchProblem,heuristic=foodHeuristic\")"
   ]
  },
  {
   "cell_type": "markdown",
   "metadata": {},
   "source": [
    "Нека сега опитаме с A*"
   ]
  },
  {
   "cell_type": "code",
   "execution_count": 18,
   "metadata": {},
   "outputs": [
    {
     "data": {
      "text/plain": [
       "0"
      ]
     },
     "execution_count": 18,
     "metadata": {},
     "output_type": "execute_result"
    }
   ],
   "source": [
    "os.system(\"python pacman.py -l trickySearch -p AStarFoodSearchAgent\")"
   ]
  },
  {
   "cell_type": "markdown",
   "metadata": {},
   "source": [
    "Лесно се забелязва разликата между двата алгоритъма. "
   ]
  },
  {
   "cell_type": "markdown",
   "metadata": {},
   "source": [
    "\n",
    "SearchAgent using function **ucs**\n",
    "\n",
    "Path found with total cost of 60 in **15.3 seconds**\n",
    "\n",
    "Search nodes expanded: **16688**\n",
    "\n",
    "Pacman emerges victorious! Score: 570\n",
    "\n",
    "Score:        570.0\n",
    "\n",
    "---\n",
    "SearchAgent using function **astar** and heuristic foodHeuristic\n",
    "\n",
    "Path found with total cost of 60 in **3.9 seconds**\n",
    "\n",
    "Search nodes expanded: **7553**\n",
    "\n",
    "Score:        570.0"
   ]
  },
  {
   "cell_type": "markdown",
   "metadata": {},
   "source": [
    "Нека опитаме друг подход, в който гледаме единствено пътя до най-близката храна и се запътваме към нея. За целта използваме търсене в широчина."
   ]
  },
  {
   "cell_type": "code",
   "execution_count": 24,
   "metadata": {},
   "outputs": [
    {
     "data": {
      "text/plain": [
       "0"
      ]
     },
     "execution_count": 24,
     "metadata": {},
     "output_type": "execute_result"
    }
   ],
   "source": [
    "os.system(\"python pacman.py -l trickySearch -p ClosestDotSearchAgent\")\n",
    "# Score 562"
   ]
  },
  {
   "cell_type": "markdown",
   "metadata": {},
   "source": [
    "Повече хапване:"
   ]
  },
  {
   "cell_type": "code",
   "execution_count": 20,
   "metadata": {},
   "outputs": [
    {
     "data": {
      "text/plain": [
       "0"
      ]
     },
     "execution_count": 20,
     "metadata": {},
     "output_type": "execute_result"
    }
   ],
   "source": [
    "# [SKIPPABLE] Find the closest food using BFS and head for it\n",
    "os.system(\"python pacman.py -l bigSearch -p ClosestDotSearchAgent -z .5 --frameTime 0.02\")"
   ]
  },
  {
   "cell_type": "markdown",
   "metadata": {},
   "source": [
    "## Рефлексивен агент\n",
    "Нека опитаме друг подход. Ще имплементираме функция, която взема в предвид разстоянието до храните в определен от нас радиус, позицията на призраците и това дали духовете бягат или го преследват. "
   ]
  },
  {
   "cell_type": "code",
   "execution_count": 29,
   "metadata": {},
   "outputs": [],
   "source": [
    "\n",
    "# --- MULTIAGET ---\n",
    "os.chdir(\"../multiagent\")"
   ]
  },
  {
   "cell_type": "code",
   "execution_count": 32,
   "metadata": {},
   "outputs": [
    {
     "data": {
      "text/plain": [
       "0"
      ]
     },
     "execution_count": 32,
     "metadata": {},
     "output_type": "execute_result"
    }
   ],
   "source": [
    "# Reflex agent taking the best movement calculating the best move\n",
    "# Taking in account: \n",
    "#   - food in radius \n",
    "#   - ghosts position\n",
    "#   - ghosts running\n",
    "os.system(\"python pacman.py --frameTime 0.05 -p ReflexAgent -k 2\")\n"
   ]
  },
  {
   "cell_type": "markdown",
   "metadata": {},
   "source": [
    "## Minimax\n",
    "А защо след като знаем позицията и целта на призраците не се опитаме да предскажем какво ще направят, ако работеха оптимално? Предсказваме с максимална дълбочина 4, в противен случай пакман се бави твърде много в решенията си и бива изяден."
   ]
  },
  {
   "cell_type": "code",
   "execution_count": 33,
   "metadata": {},
   "outputs": [
    {
     "data": {
      "text/plain": [
       "0"
      ]
     },
     "execution_count": 33,
     "metadata": {},
     "output_type": "execute_result"
    }
   ],
   "source": [
    "# MINIMAX using the game score\n",
    "os.system(\"python autograder.py -q q2\")"
   ]
  },
  {
   "cell_type": "markdown",
   "metadata": {},
   "source": [
    "## Машинно самообучение с Q-learning"
   ]
  },
  {
   "cell_type": "code",
   "execution_count": 35,
   "metadata": {},
   "outputs": [],
   "source": [
    "# --- Machine learning ---\n",
    "os.chdir(\"../reinforcement\")"
   ]
  },
  {
   "cell_type": "markdown",
   "metadata": {},
   "source": [
    "С обикновен Q-learning след 2000 епизода обучаване успяхме да постигнем 10/10 победи на тази ОГРОМНА карта. "
   ]
  },
  {
   "cell_type": "code",
   "execution_count": 36,
   "metadata": {},
   "outputs": [
    {
     "data": {
      "text/plain": [
       "0"
      ]
     },
     "execution_count": 36,
     "metadata": {},
     "output_type": "execute_result"
    }
   ],
   "source": [
    "# Qlearning for 2000 episodes on smallGrid\n",
    "# Average Score: 499.7\n",
    "# Scores:        503.0, 502.0, 499.0, 499.0, 503.0, 501.0, 495.0, 495.0, 501.0, 499.0\n",
    "# Win Rate:      10/10 (1.00)\n",
    "os.system(\"python pacman.py --replay replays/qLearn-small-2000-ep\")"
   ]
  },
  {
   "cell_type": "markdown",
   "metadata": {},
   "source": [
    "Всяка комбинация от позиции на Пакман и призраците на картата представлява отделно състояние. Поради голямото многообразие от възможни комбинации, броят на състоянията в играта Pac-Man нараства експоненциално, което прави процеса на обучение чрез Q-learning изключително бавен, дори за картите с малък размер.\n",
    "\n",
    "## Approximate Q-learning\n",
    "За разлика от традиционния Q-learning, Approximate Q-learning се стреми да опрости процеса на обучение като апроксимира Q-стойностите чрез линейна комбинация от характеристики на състоянието и техните тегла, вместо да се опитва да запамети Q-стойност за всяко възможно състояние отделно. Това позволява на агента бързо да обобщава и да научи полезни **стратегии от много по-малко примери,** тъй като моделът извлича и използва ключови аспекти на средата, които влияят на вземането на решения, като например разстоянието до най-близкия призрак или броят на оставащите точки за ядене. Това значително ускорява процеса на обучение и повишава ефективността на агента в сложни среди като Pac-Man.\n",
    "\n",
    "Нега видим как се справя този метод със само 50 епизода трениране."
   ]
  },
  {
   "cell_type": "code",
   "execution_count": 38,
   "metadata": {},
   "outputs": [
    {
     "data": {
      "text/plain": [
       "0"
      ]
     },
     "execution_count": 38,
     "metadata": {},
     "output_type": "execute_result"
    }
   ],
   "source": [
    "\n",
    "# Approximate QLearning on big grid\n",
    "# Average Score: 1326.2\n",
    "# Scores:        1308.0, 1329.0, 1329.0, 1346.0, 1335.0, 1318.0, 1323.0, 1313.0, 1333.0, 1328.0\n",
    "# Win Rate:      10/10 (1.00)\n",
    "# Record:        Win, Win, Win, Win, Win, Win, Win, Win, Win, Win\n",
    "os.system(\"python pacman.py --replay replays/qLearn-50-ep\")"
   ]
  },
  {
   "cell_type": "code",
   "execution_count": 39,
   "metadata": {},
   "outputs": [
    {
     "data": {
      "text/plain": [
       "0"
      ]
     },
     "execution_count": 39,
     "metadata": {},
     "output_type": "execute_result"
    }
   ],
   "source": [
    "os.system(\"python pacman.py --replay replays/qLearn-500-ep\")"
   ]
  },
  {
   "cell_type": "markdown",
   "metadata": {},
   "source": []
  }
 ],
 "metadata": {
  "kernelspec": {
   "display_name": "ml_env",
   "language": "python",
   "name": "python3"
  },
  "language_info": {
   "codemirror_mode": {
    "name": "ipython",
    "version": 3
   },
   "file_extension": ".py",
   "mimetype": "text/x-python",
   "name": "python",
   "nbconvert_exporter": "python",
   "pygments_lexer": "ipython3",
   "version": "3.6.13"
  }
 },
 "nbformat": 4,
 "nbformat_minor": 2
}
